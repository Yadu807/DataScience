{
 "cells": [
  {
   "cell_type": "code",
   "execution_count": 5,
   "id": "93f6c3ce",
   "metadata": {},
   "outputs": [
    {
     "name": "stdout",
     "output_type": "stream",
     "text": [
      "matrix a\n",
      "[[1 2]\n",
      " [3 4]]\n",
      " \n",
      "matrix b\n",
      "[[5 6]\n",
      " [7 8]]\n",
      "Matrix addition\n",
      "[[ 6  8]\n",
      " [10 12]]\n",
      "Matrix substraction\n",
      "[[-4 -4]\n",
      " [-4 -4]]\n",
      "Matrix multiplication\n",
      "[[19 22]\n",
      " [43 50]]\n",
      "Matrix Transpose\n",
      "[[1 3]\n",
      " [2 4]]\n"
     ]
    }
   ],
   "source": [
    "import numpy as np\n",
    "\n",
    "#create matrices\n",
    "a=np.array([[1,2],[3,4]])\n",
    "b=np.array([[5,6],[7,8]])\n",
    "print(\"matrix a\")\n",
    "print(a)\n",
    "print(\" \")\n",
    "print(\"matrix b\")\n",
    "print(b)\n",
    "\n",
    "#addition\n",
    "c=a+b\n",
    "print(\"Matrix addition\")\n",
    "print(c)\n",
    "#substraction\n",
    "e=a-b\n",
    "print(\"Matrix substraction\")\n",
    "print(e)\n",
    "\n",
    "#matrix mulltiplication\n",
    "f=np.dot(a,b)\n",
    "print(\"Matrix multiplication\")\n",
    "print(f)\n",
    "\n",
    "#transpose\n",
    "a_t=a.T\n",
    "print(\"Matrix Transpose\")\n",
    "print(a_t)"
   ]
  },
  {
   "cell_type": "code",
   "execution_count": 1,
   "id": "8950b400",
   "metadata": {},
   "outputs": [
    {
     "name": "stdout",
     "output_type": "stream",
     "text": [
      "Original Matrix:\n",
      "[[1 2 3]\n",
      " [4 5 6]\n",
      " [7 8 9]]\n",
      "\n",
      "Reconstructed Matrix(with reduced dimensions):\n",
      "[[1. 2. 3.]\n",
      " [4. 5. 6.]\n",
      " [7. 8. 9.]]\n"
     ]
    }
   ],
   "source": [
    "#with SVD\n",
    "import numpy as np\n",
    "#create a sample matrix\n",
    "X=np.array([[1,2,3],[4,5,6],[7,8,9]])\n",
    "\n",
    "#perform SVD\n",
    "U,S,VT=np.linalg.svd(X)\n",
    "n_components=2\n",
    "X_reconstructed=np.dot(U[:,:n_components],np.dot(np.diag(S[:n_components]),VT[:n_components,:]))\n",
    "print(\"Original Matrix:\")\n",
    "print(X)\n",
    "print(\"\\nReconstructed Matrix(with reduced dimensions):\")\n",
    "print(X_reconstructed)"
   ]
  },
  {
   "cell_type": "code",
   "execution_count": null,
   "id": "d3cd2700",
   "metadata": {},
   "outputs": [],
   "source": []
  }
 ],
 "metadata": {
  "kernelspec": {
   "display_name": "Python 3 (ipykernel)",
   "language": "python",
   "name": "python3"
  },
  "language_info": {
   "codemirror_mode": {
    "name": "ipython",
    "version": 3
   },
   "file_extension": ".py",
   "mimetype": "text/x-python",
   "name": "python",
   "nbconvert_exporter": "python",
   "pygments_lexer": "ipython3",
   "version": "3.11.5"
  }
 },
 "nbformat": 4,
 "nbformat_minor": 5
}
